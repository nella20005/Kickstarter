{
  "nbformat": 4,
  "nbformat_minor": 0,
  "metadata": {
    "colab": {
      "name": "Kick Starter.ipynb",
      "provenance": [],
      "collapsed_sections": [],
      "authorship_tag": "ABX9TyOZZ7VaDt4DsSZziafp03Sq",
      "include_colab_link": true
    },
    "kernelspec": {
      "name": "python3",
      "display_name": "Python 3"
    }
  },
  "cells": [
    {
      "cell_type": "markdown",
      "metadata": {
        "id": "view-in-github",
        "colab_type": "text"
      },
      "source": [
        "<a href=\"https://colab.research.google.com/github/nella20005/Kickstarter/blob/main/Kick_Starter.ipynb\" target=\"_parent\"><img src=\"https://colab.research.google.com/assets/colab-badge.svg\" alt=\"Open In Colab\"/></a>"
      ]
    },
    {
      "cell_type": "markdown",
      "metadata": {
        "id": "SF_8OwYQc8uQ"
      },
      "source": [
        "### **Kick Starter Analysis of 2018 Data**"
      ]
    },
    {
      "cell_type": "code",
      "metadata": {
        "id": "cbIc5oMIc4Y0"
      },
      "source": [
        "import numpy as np\n",
        "import pandas as pd\n",
        "import seaborn as sns\n",
        "import matplotlib\n",
        "import matplotlib.pyplot as plt\n",
        "from matplotlib.ticker import PercentFormatter\n",
        "%matplotlib inline"
      ],
      "execution_count": 1,
      "outputs": []
    },
    {
      "cell_type": "code",
      "metadata": {
        "id": "zkVZdLN7f3Vp",
        "colab": {
          "base_uri": "https://localhost:8080/",
          "height": 910
        },
        "outputId": "655d1262-d176-45a0-ff8a-0b467568aba0"
      },
      "source": [
        "df = pd.read_csv('ks2018.csv')\n",
        "df"
      ],
      "execution_count": 2,
      "outputs": [
        {
          "output_type": "execute_result",
          "data": {
            "text/html": [
              "<div>\n",
              "<style scoped>\n",
              "    .dataframe tbody tr th:only-of-type {\n",
              "        vertical-align: middle;\n",
              "    }\n",
              "\n",
              "    .dataframe tbody tr th {\n",
              "        vertical-align: top;\n",
              "    }\n",
              "\n",
              "    .dataframe thead th {\n",
              "        text-align: right;\n",
              "    }\n",
              "</style>\n",
              "<table border=\"1\" class=\"dataframe\">\n",
              "  <thead>\n",
              "    <tr style=\"text-align: right;\">\n",
              "      <th></th>\n",
              "      <th>ID</th>\n",
              "      <th>name</th>\n",
              "      <th>category</th>\n",
              "      <th>main_category</th>\n",
              "      <th>currency</th>\n",
              "      <th>deadline</th>\n",
              "      <th>goal</th>\n",
              "      <th>launched</th>\n",
              "      <th>pledged</th>\n",
              "      <th>state</th>\n",
              "      <th>backers</th>\n",
              "      <th>country</th>\n",
              "      <th>usd pledged</th>\n",
              "      <th>usd_pledged_real</th>\n",
              "      <th>usd_goal_real</th>\n",
              "    </tr>\n",
              "  </thead>\n",
              "  <tbody>\n",
              "    <tr>\n",
              "      <th>0</th>\n",
              "      <td>1000002330</td>\n",
              "      <td>The Songs of Adelaide &amp; Abullah</td>\n",
              "      <td>Poetry</td>\n",
              "      <td>Publishing</td>\n",
              "      <td>GBP</td>\n",
              "      <td>2015-10-09</td>\n",
              "      <td>1000.0</td>\n",
              "      <td>2015-08-11 12:12:28</td>\n",
              "      <td>0.0</td>\n",
              "      <td>failed</td>\n",
              "      <td>0</td>\n",
              "      <td>GB</td>\n",
              "      <td>0.0</td>\n",
              "      <td>0.0</td>\n",
              "      <td>1533.95</td>\n",
              "    </tr>\n",
              "    <tr>\n",
              "      <th>1</th>\n",
              "      <td>1000003930</td>\n",
              "      <td>Greeting From Earth: ZGAC Arts Capsule For ET</td>\n",
              "      <td>Narrative Film</td>\n",
              "      <td>Film &amp; Video</td>\n",
              "      <td>USD</td>\n",
              "      <td>2017-11-01</td>\n",
              "      <td>30000.0</td>\n",
              "      <td>2017-09-02 04:43:57</td>\n",
              "      <td>2421.0</td>\n",
              "      <td>failed</td>\n",
              "      <td>15</td>\n",
              "      <td>US</td>\n",
              "      <td>100.0</td>\n",
              "      <td>2421.0</td>\n",
              "      <td>30000.00</td>\n",
              "    </tr>\n",
              "    <tr>\n",
              "      <th>2</th>\n",
              "      <td>1000004038</td>\n",
              "      <td>Where is Hank?</td>\n",
              "      <td>Narrative Film</td>\n",
              "      <td>Film &amp; Video</td>\n",
              "      <td>USD</td>\n",
              "      <td>2013-02-26</td>\n",
              "      <td>45000.0</td>\n",
              "      <td>2013-01-12 00:20:50</td>\n",
              "      <td>220.0</td>\n",
              "      <td>failed</td>\n",
              "      <td>3</td>\n",
              "      <td>US</td>\n",
              "      <td>220.0</td>\n",
              "      <td>220.0</td>\n",
              "      <td>45000.00</td>\n",
              "    </tr>\n",
              "    <tr>\n",
              "      <th>3</th>\n",
              "      <td>1000007540</td>\n",
              "      <td>ToshiCapital Rekordz Needs Help to Complete Album</td>\n",
              "      <td>Music</td>\n",
              "      <td>Music</td>\n",
              "      <td>USD</td>\n",
              "      <td>2012-04-16</td>\n",
              "      <td>5000.0</td>\n",
              "      <td>2012-03-17 03:24:11</td>\n",
              "      <td>1.0</td>\n",
              "      <td>failed</td>\n",
              "      <td>1</td>\n",
              "      <td>US</td>\n",
              "      <td>1.0</td>\n",
              "      <td>1.0</td>\n",
              "      <td>5000.00</td>\n",
              "    </tr>\n",
              "    <tr>\n",
              "      <th>4</th>\n",
              "      <td>1000011046</td>\n",
              "      <td>Community Film Project: The Art of Neighborhoo...</td>\n",
              "      <td>Film &amp; Video</td>\n",
              "      <td>Film &amp; Video</td>\n",
              "      <td>USD</td>\n",
              "      <td>2015-08-29</td>\n",
              "      <td>19500.0</td>\n",
              "      <td>2015-07-04 08:35:03</td>\n",
              "      <td>1283.0</td>\n",
              "      <td>canceled</td>\n",
              "      <td>14</td>\n",
              "      <td>US</td>\n",
              "      <td>1283.0</td>\n",
              "      <td>1283.0</td>\n",
              "      <td>19500.00</td>\n",
              "    </tr>\n",
              "    <tr>\n",
              "      <th>...</th>\n",
              "      <td>...</td>\n",
              "      <td>...</td>\n",
              "      <td>...</td>\n",
              "      <td>...</td>\n",
              "      <td>...</td>\n",
              "      <td>...</td>\n",
              "      <td>...</td>\n",
              "      <td>...</td>\n",
              "      <td>...</td>\n",
              "      <td>...</td>\n",
              "      <td>...</td>\n",
              "      <td>...</td>\n",
              "      <td>...</td>\n",
              "      <td>...</td>\n",
              "      <td>...</td>\n",
              "    </tr>\n",
              "    <tr>\n",
              "      <th>378656</th>\n",
              "      <td>999976400</td>\n",
              "      <td>ChknTruk Nationwide Charity Drive 2014 (Canceled)</td>\n",
              "      <td>Documentary</td>\n",
              "      <td>Film &amp; Video</td>\n",
              "      <td>USD</td>\n",
              "      <td>2014-10-17</td>\n",
              "      <td>50000.0</td>\n",
              "      <td>2014-09-17 02:35:30</td>\n",
              "      <td>25.0</td>\n",
              "      <td>canceled</td>\n",
              "      <td>1</td>\n",
              "      <td>US</td>\n",
              "      <td>25.0</td>\n",
              "      <td>25.0</td>\n",
              "      <td>50000.00</td>\n",
              "    </tr>\n",
              "    <tr>\n",
              "      <th>378657</th>\n",
              "      <td>999977640</td>\n",
              "      <td>The Tribe</td>\n",
              "      <td>Narrative Film</td>\n",
              "      <td>Film &amp; Video</td>\n",
              "      <td>USD</td>\n",
              "      <td>2011-07-19</td>\n",
              "      <td>1500.0</td>\n",
              "      <td>2011-06-22 03:35:14</td>\n",
              "      <td>155.0</td>\n",
              "      <td>failed</td>\n",
              "      <td>5</td>\n",
              "      <td>US</td>\n",
              "      <td>155.0</td>\n",
              "      <td>155.0</td>\n",
              "      <td>1500.00</td>\n",
              "    </tr>\n",
              "    <tr>\n",
              "      <th>378658</th>\n",
              "      <td>999986353</td>\n",
              "      <td>Walls of Remedy- New lesbian Romantic Comedy f...</td>\n",
              "      <td>Narrative Film</td>\n",
              "      <td>Film &amp; Video</td>\n",
              "      <td>USD</td>\n",
              "      <td>2010-08-16</td>\n",
              "      <td>15000.0</td>\n",
              "      <td>2010-07-01 19:40:30</td>\n",
              "      <td>20.0</td>\n",
              "      <td>failed</td>\n",
              "      <td>1</td>\n",
              "      <td>US</td>\n",
              "      <td>20.0</td>\n",
              "      <td>20.0</td>\n",
              "      <td>15000.00</td>\n",
              "    </tr>\n",
              "    <tr>\n",
              "      <th>378659</th>\n",
              "      <td>999987933</td>\n",
              "      <td>BioDefense Education Kit</td>\n",
              "      <td>Technology</td>\n",
              "      <td>Technology</td>\n",
              "      <td>USD</td>\n",
              "      <td>2016-02-13</td>\n",
              "      <td>15000.0</td>\n",
              "      <td>2016-01-13 18:13:53</td>\n",
              "      <td>200.0</td>\n",
              "      <td>failed</td>\n",
              "      <td>6</td>\n",
              "      <td>US</td>\n",
              "      <td>200.0</td>\n",
              "      <td>200.0</td>\n",
              "      <td>15000.00</td>\n",
              "    </tr>\n",
              "    <tr>\n",
              "      <th>378660</th>\n",
              "      <td>999988282</td>\n",
              "      <td>Nou Renmen Ayiti!  We Love Haiti!</td>\n",
              "      <td>Performance Art</td>\n",
              "      <td>Art</td>\n",
              "      <td>USD</td>\n",
              "      <td>2011-08-16</td>\n",
              "      <td>2000.0</td>\n",
              "      <td>2011-07-19 09:07:47</td>\n",
              "      <td>524.0</td>\n",
              "      <td>failed</td>\n",
              "      <td>17</td>\n",
              "      <td>US</td>\n",
              "      <td>524.0</td>\n",
              "      <td>524.0</td>\n",
              "      <td>2000.00</td>\n",
              "    </tr>\n",
              "  </tbody>\n",
              "</table>\n",
              "<p>378661 rows × 15 columns</p>\n",
              "</div>"
            ],
            "text/plain": [
              "                ID  ... usd_goal_real\n",
              "0       1000002330  ...       1533.95\n",
              "1       1000003930  ...      30000.00\n",
              "2       1000004038  ...      45000.00\n",
              "3       1000007540  ...       5000.00\n",
              "4       1000011046  ...      19500.00\n",
              "...            ...  ...           ...\n",
              "378656   999976400  ...      50000.00\n",
              "378657   999977640  ...       1500.00\n",
              "378658   999986353  ...      15000.00\n",
              "378659   999987933  ...      15000.00\n",
              "378660   999988282  ...       2000.00\n",
              "\n",
              "[378661 rows x 15 columns]"
            ]
          },
          "metadata": {
            "tags": []
          },
          "execution_count": 2
        }
      ]
    },
    {
      "cell_type": "markdown",
      "metadata": {
        "id": "FssPICeDhhU5"
      },
      "source": [
        "To find the number of rows:"
      ]
    },
    {
      "cell_type": "code",
      "metadata": {
        "id": "jYSXUwFwhabP",
        "colab": {
          "base_uri": "https://localhost:8080/"
        },
        "outputId": "004cde3d-e5fd-4997-f227-6f8acd037ed0"
      },
      "source": [
        "df.shape"
      ],
      "execution_count": null,
      "outputs": [
        {
          "output_type": "execute_result",
          "data": {
            "text/plain": [
              "(378661, 15)"
            ]
          },
          "metadata": {
            "tags": []
          },
          "execution_count": 4
        }
      ]
    },
    {
      "cell_type": "markdown",
      "metadata": {
        "id": "M2LRLDtsiMm8"
      },
      "source": [
        "Based on the shape function, this data set has 378,661 rows and 15 columns. We can conclude that there were 378,661 kick starter projects in 2018."
      ]
    },
    {
      "cell_type": "code",
      "metadata": {
        "id": "4UuxW2uViiNN",
        "colab": {
          "base_uri": "https://localhost:8080/"
        },
        "outputId": "563d145f-f09f-4196-b965-9bfd7bf1735b"
      },
      "source": [
        "df.info()"
      ],
      "execution_count": null,
      "outputs": [
        {
          "output_type": "stream",
          "text": [
            "<class 'pandas.core.frame.DataFrame'>\n",
            "RangeIndex: 378661 entries, 0 to 378660\n",
            "Data columns (total 15 columns):\n",
            " #   Column            Non-Null Count   Dtype  \n",
            "---  ------            --------------   -----  \n",
            " 0   ID                378661 non-null  int64  \n",
            " 1   name              378657 non-null  object \n",
            " 2   category          378661 non-null  object \n",
            " 3   main_category     378661 non-null  object \n",
            " 4   currency          378661 non-null  object \n",
            " 5   deadline          378661 non-null  object \n",
            " 6   goal              378661 non-null  float64\n",
            " 7   launched          378661 non-null  object \n",
            " 8   pledged           378661 non-null  float64\n",
            " 9   state             378661 non-null  object \n",
            " 10  backers           378661 non-null  int64  \n",
            " 11  country           378661 non-null  object \n",
            " 12  usd pledged       374864 non-null  float64\n",
            " 13  usd_pledged_real  378661 non-null  float64\n",
            " 14  usd_goal_real     378661 non-null  float64\n",
            "dtypes: float64(5), int64(2), object(8)\n",
            "memory usage: 43.3+ MB\n"
          ],
          "name": "stdout"
        }
      ]
    },
    {
      "cell_type": "markdown",
      "metadata": {
        "id": "ionkOEMNi4sw"
      },
      "source": [
        "Looking at the not null count and comparing it to the total number of rows, we can see some fields have missing data. The plan is to fill in those fields."
      ]
    },
    {
      "cell_type": "code",
      "metadata": {
        "colab": {
          "base_uri": "https://localhost:8080/"
        },
        "id": "dzBnLtFngg1L",
        "outputId": "d477d3d8-5533-4aa2-dbe0-a9343c237cdd"
      },
      "source": [
        "nan_values = df.isna()\n",
        "nan_columns = nan_values.any()\n",
        "\n",
        "columns_with_nan = df.columns[nan_columns].tolist()\n",
        "print(columns_with_nan)"
      ],
      "execution_count": 3,
      "outputs": [
        {
          "output_type": "stream",
          "text": [
            "['name', 'usd pledged']\n"
          ],
          "name": "stdout"
        }
      ]
    },
    {
      "cell_type": "markdown",
      "metadata": {
        "id": "3RTQUg0VgwK0"
      },
      "source": [
        "We can see that columns name and usd pledged have null values. Let's look at the row with the nulls to see what should be done with the columns with null."
      ]
    },
    {
      "cell_type": "code",
      "metadata": {
        "colab": {
          "base_uri": "https://localhost:8080/"
        },
        "id": "1U3QtL-WhWCl",
        "outputId": "718d5445-f86e-4349-f2fb-b6f0ccf8e2c7"
      },
      "source": [
        "is_NaN = df.isnull()\n",
        "row_has_NaN = is_NaN.any(axis=1)\n",
        "rows_with_NaN = df[row_has_NaN]\n",
        "\n",
        "print(rows_with_NaN)"
      ],
      "execution_count": 4,
      "outputs": [
        {
          "output_type": "stream",
          "text": [
            "                ID  ... usd_goal_real\n",
            "169     1000694855  ...       6500.00\n",
            "328      100149523  ...       3211.53\n",
            "632     1003023003  ...       3500.00\n",
            "647     1003130892  ...       6000.00\n",
            "749     1003629045  ...       3000.00\n",
            "...            ...  ...           ...\n",
            "378233   997971307  ...       7500.00\n",
            "378303   998319149  ...       2752.04\n",
            "378434     9988744  ...       5000.00\n",
            "378585   999610349  ...       3080.81\n",
            "378588   999621278  ...       1710.08\n",
            "\n",
            "[3801 rows x 15 columns]\n"
          ],
          "name": "stdout"
        }
      ]
    },
    {
      "cell_type": "markdown",
      "metadata": {
        "id": "ESKj0Xs2q7oI"
      },
      "source": [
        "Based on the results and the data, the plan will be to remove the column 'name' and replace the null values of 'usd pledged' to the number zero (0). First we will remove the column 'name'."
      ]
    },
    {
      "cell_type": "code",
      "metadata": {
        "colab": {
          "base_uri": "https://localhost:8080/",
          "height": 776
        },
        "id": "zZreE7Eqrgw1",
        "outputId": "d66063e8-94a2-4ca6-c841-a299b84d5020"
      },
      "source": [
        "new_df = df.drop(['name'], axis=1)\n",
        "new_df"
      ],
      "execution_count": 5,
      "outputs": [
        {
          "output_type": "execute_result",
          "data": {
            "text/html": [
              "<div>\n",
              "<style scoped>\n",
              "    .dataframe tbody tr th:only-of-type {\n",
              "        vertical-align: middle;\n",
              "    }\n",
              "\n",
              "    .dataframe tbody tr th {\n",
              "        vertical-align: top;\n",
              "    }\n",
              "\n",
              "    .dataframe thead th {\n",
              "        text-align: right;\n",
              "    }\n",
              "</style>\n",
              "<table border=\"1\" class=\"dataframe\">\n",
              "  <thead>\n",
              "    <tr style=\"text-align: right;\">\n",
              "      <th></th>\n",
              "      <th>ID</th>\n",
              "      <th>category</th>\n",
              "      <th>main_category</th>\n",
              "      <th>currency</th>\n",
              "      <th>deadline</th>\n",
              "      <th>goal</th>\n",
              "      <th>launched</th>\n",
              "      <th>pledged</th>\n",
              "      <th>state</th>\n",
              "      <th>backers</th>\n",
              "      <th>country</th>\n",
              "      <th>usd pledged</th>\n",
              "      <th>usd_pledged_real</th>\n",
              "      <th>usd_goal_real</th>\n",
              "    </tr>\n",
              "  </thead>\n",
              "  <tbody>\n",
              "    <tr>\n",
              "      <th>0</th>\n",
              "      <td>1000002330</td>\n",
              "      <td>Poetry</td>\n",
              "      <td>Publishing</td>\n",
              "      <td>GBP</td>\n",
              "      <td>2015-10-09</td>\n",
              "      <td>1000.0</td>\n",
              "      <td>2015-08-11 12:12:28</td>\n",
              "      <td>0.0</td>\n",
              "      <td>failed</td>\n",
              "      <td>0</td>\n",
              "      <td>GB</td>\n",
              "      <td>0.0</td>\n",
              "      <td>0.0</td>\n",
              "      <td>1533.95</td>\n",
              "    </tr>\n",
              "    <tr>\n",
              "      <th>1</th>\n",
              "      <td>1000003930</td>\n",
              "      <td>Narrative Film</td>\n",
              "      <td>Film &amp; Video</td>\n",
              "      <td>USD</td>\n",
              "      <td>2017-11-01</td>\n",
              "      <td>30000.0</td>\n",
              "      <td>2017-09-02 04:43:57</td>\n",
              "      <td>2421.0</td>\n",
              "      <td>failed</td>\n",
              "      <td>15</td>\n",
              "      <td>US</td>\n",
              "      <td>100.0</td>\n",
              "      <td>2421.0</td>\n",
              "      <td>30000.00</td>\n",
              "    </tr>\n",
              "    <tr>\n",
              "      <th>2</th>\n",
              "      <td>1000004038</td>\n",
              "      <td>Narrative Film</td>\n",
              "      <td>Film &amp; Video</td>\n",
              "      <td>USD</td>\n",
              "      <td>2013-02-26</td>\n",
              "      <td>45000.0</td>\n",
              "      <td>2013-01-12 00:20:50</td>\n",
              "      <td>220.0</td>\n",
              "      <td>failed</td>\n",
              "      <td>3</td>\n",
              "      <td>US</td>\n",
              "      <td>220.0</td>\n",
              "      <td>220.0</td>\n",
              "      <td>45000.00</td>\n",
              "    </tr>\n",
              "    <tr>\n",
              "      <th>3</th>\n",
              "      <td>1000007540</td>\n",
              "      <td>Music</td>\n",
              "      <td>Music</td>\n",
              "      <td>USD</td>\n",
              "      <td>2012-04-16</td>\n",
              "      <td>5000.0</td>\n",
              "      <td>2012-03-17 03:24:11</td>\n",
              "      <td>1.0</td>\n",
              "      <td>failed</td>\n",
              "      <td>1</td>\n",
              "      <td>US</td>\n",
              "      <td>1.0</td>\n",
              "      <td>1.0</td>\n",
              "      <td>5000.00</td>\n",
              "    </tr>\n",
              "    <tr>\n",
              "      <th>4</th>\n",
              "      <td>1000011046</td>\n",
              "      <td>Film &amp; Video</td>\n",
              "      <td>Film &amp; Video</td>\n",
              "      <td>USD</td>\n",
              "      <td>2015-08-29</td>\n",
              "      <td>19500.0</td>\n",
              "      <td>2015-07-04 08:35:03</td>\n",
              "      <td>1283.0</td>\n",
              "      <td>canceled</td>\n",
              "      <td>14</td>\n",
              "      <td>US</td>\n",
              "      <td>1283.0</td>\n",
              "      <td>1283.0</td>\n",
              "      <td>19500.00</td>\n",
              "    </tr>\n",
              "    <tr>\n",
              "      <th>...</th>\n",
              "      <td>...</td>\n",
              "      <td>...</td>\n",
              "      <td>...</td>\n",
              "      <td>...</td>\n",
              "      <td>...</td>\n",
              "      <td>...</td>\n",
              "      <td>...</td>\n",
              "      <td>...</td>\n",
              "      <td>...</td>\n",
              "      <td>...</td>\n",
              "      <td>...</td>\n",
              "      <td>...</td>\n",
              "      <td>...</td>\n",
              "      <td>...</td>\n",
              "    </tr>\n",
              "    <tr>\n",
              "      <th>378656</th>\n",
              "      <td>999976400</td>\n",
              "      <td>Documentary</td>\n",
              "      <td>Film &amp; Video</td>\n",
              "      <td>USD</td>\n",
              "      <td>2014-10-17</td>\n",
              "      <td>50000.0</td>\n",
              "      <td>2014-09-17 02:35:30</td>\n",
              "      <td>25.0</td>\n",
              "      <td>canceled</td>\n",
              "      <td>1</td>\n",
              "      <td>US</td>\n",
              "      <td>25.0</td>\n",
              "      <td>25.0</td>\n",
              "      <td>50000.00</td>\n",
              "    </tr>\n",
              "    <tr>\n",
              "      <th>378657</th>\n",
              "      <td>999977640</td>\n",
              "      <td>Narrative Film</td>\n",
              "      <td>Film &amp; Video</td>\n",
              "      <td>USD</td>\n",
              "      <td>2011-07-19</td>\n",
              "      <td>1500.0</td>\n",
              "      <td>2011-06-22 03:35:14</td>\n",
              "      <td>155.0</td>\n",
              "      <td>failed</td>\n",
              "      <td>5</td>\n",
              "      <td>US</td>\n",
              "      <td>155.0</td>\n",
              "      <td>155.0</td>\n",
              "      <td>1500.00</td>\n",
              "    </tr>\n",
              "    <tr>\n",
              "      <th>378658</th>\n",
              "      <td>999986353</td>\n",
              "      <td>Narrative Film</td>\n",
              "      <td>Film &amp; Video</td>\n",
              "      <td>USD</td>\n",
              "      <td>2010-08-16</td>\n",
              "      <td>15000.0</td>\n",
              "      <td>2010-07-01 19:40:30</td>\n",
              "      <td>20.0</td>\n",
              "      <td>failed</td>\n",
              "      <td>1</td>\n",
              "      <td>US</td>\n",
              "      <td>20.0</td>\n",
              "      <td>20.0</td>\n",
              "      <td>15000.00</td>\n",
              "    </tr>\n",
              "    <tr>\n",
              "      <th>378659</th>\n",
              "      <td>999987933</td>\n",
              "      <td>Technology</td>\n",
              "      <td>Technology</td>\n",
              "      <td>USD</td>\n",
              "      <td>2016-02-13</td>\n",
              "      <td>15000.0</td>\n",
              "      <td>2016-01-13 18:13:53</td>\n",
              "      <td>200.0</td>\n",
              "      <td>failed</td>\n",
              "      <td>6</td>\n",
              "      <td>US</td>\n",
              "      <td>200.0</td>\n",
              "      <td>200.0</td>\n",
              "      <td>15000.00</td>\n",
              "    </tr>\n",
              "    <tr>\n",
              "      <th>378660</th>\n",
              "      <td>999988282</td>\n",
              "      <td>Performance Art</td>\n",
              "      <td>Art</td>\n",
              "      <td>USD</td>\n",
              "      <td>2011-08-16</td>\n",
              "      <td>2000.0</td>\n",
              "      <td>2011-07-19 09:07:47</td>\n",
              "      <td>524.0</td>\n",
              "      <td>failed</td>\n",
              "      <td>17</td>\n",
              "      <td>US</td>\n",
              "      <td>524.0</td>\n",
              "      <td>524.0</td>\n",
              "      <td>2000.00</td>\n",
              "    </tr>\n",
              "  </tbody>\n",
              "</table>\n",
              "<p>378661 rows × 14 columns</p>\n",
              "</div>"
            ],
            "text/plain": [
              "                ID         category  ... usd_pledged_real usd_goal_real\n",
              "0       1000002330           Poetry  ...              0.0       1533.95\n",
              "1       1000003930   Narrative Film  ...           2421.0      30000.00\n",
              "2       1000004038   Narrative Film  ...            220.0      45000.00\n",
              "3       1000007540            Music  ...              1.0       5000.00\n",
              "4       1000011046     Film & Video  ...           1283.0      19500.00\n",
              "...            ...              ...  ...              ...           ...\n",
              "378656   999976400      Documentary  ...             25.0      50000.00\n",
              "378657   999977640   Narrative Film  ...            155.0       1500.00\n",
              "378658   999986353   Narrative Film  ...             20.0      15000.00\n",
              "378659   999987933       Technology  ...            200.0      15000.00\n",
              "378660   999988282  Performance Art  ...            524.0       2000.00\n",
              "\n",
              "[378661 rows x 14 columns]"
            ]
          },
          "metadata": {
            "tags": []
          },
          "execution_count": 5
        }
      ]
    },
    {
      "cell_type": "markdown",
      "metadata": {
        "id": "nRxYFwYBsWIA"
      },
      "source": [
        "Next step is to replace the null value of the field 'usd pledged' to zero (0).\n"
      ]
    },
    {
      "cell_type": "code",
      "metadata": {
        "id": "WBecjLVHjaI0"
      },
      "source": [
        "new_df['usd pledged'] = new_df['usd pledged'].fillna(0)"
      ],
      "execution_count": 6,
      "outputs": []
    },
    {
      "cell_type": "code",
      "metadata": {
        "id": "5t2300kOkehB",
        "colab": {
          "base_uri": "https://localhost:8080/"
        },
        "outputId": "06688df7-6d85-4a96-dc53-cd3d40a2a0a8"
      },
      "source": [
        "new_df.info()"
      ],
      "execution_count": 7,
      "outputs": [
        {
          "output_type": "stream",
          "text": [
            "<class 'pandas.core.frame.DataFrame'>\n",
            "RangeIndex: 378661 entries, 0 to 378660\n",
            "Data columns (total 14 columns):\n",
            " #   Column            Non-Null Count   Dtype  \n",
            "---  ------            --------------   -----  \n",
            " 0   ID                378661 non-null  int64  \n",
            " 1   category          378661 non-null  object \n",
            " 2   main_category     378661 non-null  object \n",
            " 3   currency          378661 non-null  object \n",
            " 4   deadline          378661 non-null  object \n",
            " 5   goal              378661 non-null  float64\n",
            " 6   launched          378661 non-null  object \n",
            " 7   pledged           378661 non-null  float64\n",
            " 8   state             378661 non-null  object \n",
            " 9   backers           378661 non-null  int64  \n",
            " 10  country           378661 non-null  object \n",
            " 11  usd pledged       378661 non-null  float64\n",
            " 12  usd_pledged_real  378661 non-null  float64\n",
            " 13  usd_goal_real     378661 non-null  float64\n",
            "dtypes: float64(5), int64(2), object(7)\n",
            "memory usage: 40.4+ MB\n"
          ],
          "name": "stdout"
        }
      ]
    },
    {
      "cell_type": "markdown",
      "metadata": {
        "id": "uDEVyxidtvlb"
      },
      "source": [
        "Now that the data is clean, we can start analyzing the dataset. "
      ]
    },
    {
      "cell_type": "code",
      "metadata": {
        "id": "r7kEhDiCkrEg",
        "colab": {
          "base_uri": "https://localhost:8080/",
          "height": 287
        },
        "outputId": "26ad9521-1e40-4ac6-bdcb-e6968e4c0443"
      },
      "source": [
        "new_df.describe()"
      ],
      "execution_count": 8,
      "outputs": [
        {
          "output_type": "execute_result",
          "data": {
            "text/html": [
              "<div>\n",
              "<style scoped>\n",
              "    .dataframe tbody tr th:only-of-type {\n",
              "        vertical-align: middle;\n",
              "    }\n",
              "\n",
              "    .dataframe tbody tr th {\n",
              "        vertical-align: top;\n",
              "    }\n",
              "\n",
              "    .dataframe thead th {\n",
              "        text-align: right;\n",
              "    }\n",
              "</style>\n",
              "<table border=\"1\" class=\"dataframe\">\n",
              "  <thead>\n",
              "    <tr style=\"text-align: right;\">\n",
              "      <th></th>\n",
              "      <th>ID</th>\n",
              "      <th>goal</th>\n",
              "      <th>pledged</th>\n",
              "      <th>backers</th>\n",
              "      <th>usd pledged</th>\n",
              "      <th>usd_pledged_real</th>\n",
              "      <th>usd_goal_real</th>\n",
              "    </tr>\n",
              "  </thead>\n",
              "  <tbody>\n",
              "    <tr>\n",
              "      <th>count</th>\n",
              "      <td>3.786610e+05</td>\n",
              "      <td>3.786610e+05</td>\n",
              "      <td>3.786610e+05</td>\n",
              "      <td>378661.000000</td>\n",
              "      <td>3.786610e+05</td>\n",
              "      <td>3.786610e+05</td>\n",
              "      <td>3.786610e+05</td>\n",
              "    </tr>\n",
              "    <tr>\n",
              "      <th>mean</th>\n",
              "      <td>1.074731e+09</td>\n",
              "      <td>4.908079e+04</td>\n",
              "      <td>9.682979e+03</td>\n",
              "      <td>105.617476</td>\n",
              "      <td>6.966168e+03</td>\n",
              "      <td>9.058924e+03</td>\n",
              "      <td>4.545440e+04</td>\n",
              "    </tr>\n",
              "    <tr>\n",
              "      <th>std</th>\n",
              "      <td>6.190862e+08</td>\n",
              "      <td>1.183391e+06</td>\n",
              "      <td>9.563601e+04</td>\n",
              "      <td>907.185035</td>\n",
              "      <td>7.824761e+04</td>\n",
              "      <td>9.097334e+04</td>\n",
              "      <td>1.152950e+06</td>\n",
              "    </tr>\n",
              "    <tr>\n",
              "      <th>min</th>\n",
              "      <td>5.971000e+03</td>\n",
              "      <td>1.000000e-02</td>\n",
              "      <td>0.000000e+00</td>\n",
              "      <td>0.000000</td>\n",
              "      <td>0.000000e+00</td>\n",
              "      <td>0.000000e+00</td>\n",
              "      <td>1.000000e-02</td>\n",
              "    </tr>\n",
              "    <tr>\n",
              "      <th>25%</th>\n",
              "      <td>5.382635e+08</td>\n",
              "      <td>2.000000e+03</td>\n",
              "      <td>3.000000e+01</td>\n",
              "      <td>2.000000</td>\n",
              "      <td>1.345000e+01</td>\n",
              "      <td>3.100000e+01</td>\n",
              "      <td>2.000000e+03</td>\n",
              "    </tr>\n",
              "    <tr>\n",
              "      <th>50%</th>\n",
              "      <td>1.075276e+09</td>\n",
              "      <td>5.200000e+03</td>\n",
              "      <td>6.200000e+02</td>\n",
              "      <td>12.000000</td>\n",
              "      <td>3.750000e+02</td>\n",
              "      <td>6.243300e+02</td>\n",
              "      <td>5.500000e+03</td>\n",
              "    </tr>\n",
              "    <tr>\n",
              "      <th>75%</th>\n",
              "      <td>1.610149e+09</td>\n",
              "      <td>1.600000e+04</td>\n",
              "      <td>4.076000e+03</td>\n",
              "      <td>56.000000</td>\n",
              "      <td>3.000000e+03</td>\n",
              "      <td>4.050000e+03</td>\n",
              "      <td>1.550000e+04</td>\n",
              "    </tr>\n",
              "    <tr>\n",
              "      <th>max</th>\n",
              "      <td>2.147476e+09</td>\n",
              "      <td>1.000000e+08</td>\n",
              "      <td>2.033899e+07</td>\n",
              "      <td>219382.000000</td>\n",
              "      <td>2.033899e+07</td>\n",
              "      <td>2.033899e+07</td>\n",
              "      <td>1.663614e+08</td>\n",
              "    </tr>\n",
              "  </tbody>\n",
              "</table>\n",
              "</div>"
            ],
            "text/plain": [
              "                 ID          goal  ...  usd_pledged_real  usd_goal_real\n",
              "count  3.786610e+05  3.786610e+05  ...      3.786610e+05   3.786610e+05\n",
              "mean   1.074731e+09  4.908079e+04  ...      9.058924e+03   4.545440e+04\n",
              "std    6.190862e+08  1.183391e+06  ...      9.097334e+04   1.152950e+06\n",
              "min    5.971000e+03  1.000000e-02  ...      0.000000e+00   1.000000e-02\n",
              "25%    5.382635e+08  2.000000e+03  ...      3.100000e+01   2.000000e+03\n",
              "50%    1.075276e+09  5.200000e+03  ...      6.243300e+02   5.500000e+03\n",
              "75%    1.610149e+09  1.600000e+04  ...      4.050000e+03   1.550000e+04\n",
              "max    2.147476e+09  1.000000e+08  ...      2.033899e+07   1.663614e+08\n",
              "\n",
              "[8 rows x 7 columns]"
            ]
          },
          "metadata": {
            "tags": []
          },
          "execution_count": 8
        }
      ]
    },
    {
      "cell_type": "markdown",
      "metadata": {
        "id": "PRcXbsuek7Dy"
      },
      "source": [
        "Question 1: Top 5 categories with the total number."
      ]
    },
    {
      "cell_type": "code",
      "metadata": {
        "id": "x3O5AEQGlHAQ",
        "colab": {
          "base_uri": "https://localhost:8080/"
        },
        "outputId": "9068ef2b-92c6-4f94-dbee-2e67e5eb686c"
      },
      "source": [
        "cat = new_df['category'].value_counts().head(5)\n",
        "cat"
      ],
      "execution_count": 9,
      "outputs": [
        {
          "output_type": "execute_result",
          "data": {
            "text/plain": [
              "Product Design    22314\n",
              "Documentary       16139\n",
              "Music             15727\n",
              "Tabletop Games    14180\n",
              "Shorts            12357\n",
              "Name: category, dtype: int64"
            ]
          },
          "metadata": {
            "tags": []
          },
          "execution_count": 9
        }
      ]
    },
    {
      "cell_type": "markdown",
      "metadata": {
        "id": "9kZ9EqWIuP4e"
      },
      "source": [
        "Based on this data, you can conclude that most people use the website Kickstarter.com to obtain financial support for designing a product."
      ]
    },
    {
      "cell_type": "code",
      "metadata": {
        "id": "_G2D0vz2yxnJ",
        "colab": {
          "base_uri": "https://localhost:8080/",
          "height": 312
        },
        "outputId": "4617a84a-54a3-4c0c-c58a-b587be7c3381"
      },
      "source": [
        "# plot line chart\n",
        "plt.plot(cat)\n",
        "plt.title(\"Top 5 Categories\")\n",
        "plt.xlabel('Categories')\n",
        "plt.ylabel('Num of Projects')"
      ],
      "execution_count": 14,
      "outputs": [
        {
          "output_type": "execute_result",
          "data": {
            "text/plain": [
              "Text(0, 0.5, 'Num of Projects')"
            ]
          },
          "metadata": {
            "tags": []
          },
          "execution_count": 14
        },
        {
          "output_type": "display_data",
          "data": {
            "image/png": "[encoded data removed]",
            "text/plain": [
              "<Figure size 432x288 with 1 Axes>"
            ]
          },
          "metadata": {
            "tags": [],
            "needs_background": "light"
          }
        }
      ]
    },
    {
      "cell_type": "markdown",
      "metadata": {
        "id": "Y4XcWgL0mQ4y"
      },
      "source": [
        "Question 2: What is the percentage of projects that completes the goal?"
      ]
    },
    {
      "cell_type": "code",
      "metadata": {
        "colab": {
          "base_uri": "https://localhost:8080/",
          "height": 796
        },
        "id": "d8RcMyCXfZbZ",
        "outputId": "8e6d2f99-4b5b-4286-cc24-65310489ab80"
      },
      "source": [
        "sucess_KS = new_df.loc[new_df.state == 'successful']\n",
        "sucess_KS"
      ],
      "execution_count": null,
      "outputs": [
        {
          "output_type": "execute_result",
          "data": {
            "text/html": [
              "<div>\n",
              "<style scoped>\n",
              "    .dataframe tbody tr th:only-of-type {\n",
              "        vertical-align: middle;\n",
              "    }\n",
              "\n",
              "    .dataframe tbody tr th {\n",
              "        vertical-align: top;\n",
              "    }\n",
              "\n",
              "    .dataframe thead th {\n",
              "        text-align: right;\n",
              "    }\n",
              "</style>\n",
              "<table border=\"1\" class=\"dataframe\">\n",
              "  <thead>\n",
              "    <tr style=\"text-align: right;\">\n",
              "      <th></th>\n",
              "      <th>ID</th>\n",
              "      <th>category</th>\n",
              "      <th>main_category</th>\n",
              "      <th>currency</th>\n",
              "      <th>deadline</th>\n",
              "      <th>goal</th>\n",
              "      <th>launched</th>\n",
              "      <th>pledged</th>\n",
              "      <th>state</th>\n",
              "      <th>backers</th>\n",
              "      <th>country</th>\n",
              "      <th>usd pledged</th>\n",
              "      <th>usd_pledged_real</th>\n",
              "      <th>usd_goal_real</th>\n",
              "    </tr>\n",
              "  </thead>\n",
              "  <tbody>\n",
              "    <tr>\n",
              "      <th>5</th>\n",
              "      <td>1000014025</td>\n",
              "      <td>Restaurants</td>\n",
              "      <td>Food</td>\n",
              "      <td>USD</td>\n",
              "      <td>2016-04-01</td>\n",
              "      <td>50000.0</td>\n",
              "      <td>2016-02-26 13:38:27</td>\n",
              "      <td>52375.00</td>\n",
              "      <td>successful</td>\n",
              "      <td>224</td>\n",
              "      <td>US</td>\n",
              "      <td>52375.00</td>\n",
              "      <td>52375.00</td>\n",
              "      <td>50000.00</td>\n",
              "    </tr>\n",
              "    <tr>\n",
              "      <th>6</th>\n",
              "      <td>1000023410</td>\n",
              "      <td>Food</td>\n",
              "      <td>Food</td>\n",
              "      <td>USD</td>\n",
              "      <td>2014-12-21</td>\n",
              "      <td>1000.0</td>\n",
              "      <td>2014-12-01 18:30:44</td>\n",
              "      <td>1205.00</td>\n",
              "      <td>successful</td>\n",
              "      <td>16</td>\n",
              "      <td>US</td>\n",
              "      <td>1205.00</td>\n",
              "      <td>1205.00</td>\n",
              "      <td>1000.00</td>\n",
              "    </tr>\n",
              "    <tr>\n",
              "      <th>11</th>\n",
              "      <td>100005484</td>\n",
              "      <td>Indie Rock</td>\n",
              "      <td>Music</td>\n",
              "      <td>USD</td>\n",
              "      <td>2013-04-08</td>\n",
              "      <td>12500.0</td>\n",
              "      <td>2013-03-09 06:42:58</td>\n",
              "      <td>12700.00</td>\n",
              "      <td>successful</td>\n",
              "      <td>100</td>\n",
              "      <td>US</td>\n",
              "      <td>12700.00</td>\n",
              "      <td>12700.00</td>\n",
              "      <td>12500.00</td>\n",
              "    </tr>\n",
              "    <tr>\n",
              "      <th>14</th>\n",
              "      <td>1000057089</td>\n",
              "      <td>Tabletop Games</td>\n",
              "      <td>Games</td>\n",
              "      <td>GBP</td>\n",
              "      <td>2017-05-03</td>\n",
              "      <td>5000.0</td>\n",
              "      <td>2017-04-05 19:44:18</td>\n",
              "      <td>94175.00</td>\n",
              "      <td>successful</td>\n",
              "      <td>761</td>\n",
              "      <td>GB</td>\n",
              "      <td>57763.78</td>\n",
              "      <td>121857.33</td>\n",
              "      <td>6469.73</td>\n",
              "    </tr>\n",
              "    <tr>\n",
              "      <th>18</th>\n",
              "      <td>1000070642</td>\n",
              "      <td>Music</td>\n",
              "      <td>Music</td>\n",
              "      <td>USD</td>\n",
              "      <td>2012-08-17</td>\n",
              "      <td>250.0</td>\n",
              "      <td>2012-08-02 14:11:32</td>\n",
              "      <td>250.00</td>\n",
              "      <td>successful</td>\n",
              "      <td>7</td>\n",
              "      <td>US</td>\n",
              "      <td>250.00</td>\n",
              "      <td>250.00</td>\n",
              "      <td>250.00</td>\n",
              "    </tr>\n",
              "    <tr>\n",
              "      <th>...</th>\n",
              "      <td>...</td>\n",
              "      <td>...</td>\n",
              "      <td>...</td>\n",
              "      <td>...</td>\n",
              "      <td>...</td>\n",
              "      <td>...</td>\n",
              "      <td>...</td>\n",
              "      <td>...</td>\n",
              "      <td>...</td>\n",
              "      <td>...</td>\n",
              "      <td>...</td>\n",
              "      <td>...</td>\n",
              "      <td>...</td>\n",
              "      <td>...</td>\n",
              "    </tr>\n",
              "    <tr>\n",
              "      <th>378642</th>\n",
              "      <td>999929142</td>\n",
              "      <td>Tabletop Games</td>\n",
              "      <td>Games</td>\n",
              "      <td>EUR</td>\n",
              "      <td>2017-10-31</td>\n",
              "      <td>1000.0</td>\n",
              "      <td>2017-10-04 11:26:44</td>\n",
              "      <td>1246.00</td>\n",
              "      <td>successful</td>\n",
              "      <td>35</td>\n",
              "      <td>FR</td>\n",
              "      <td>66.72</td>\n",
              "      <td>1452.47</td>\n",
              "      <td>1165.70</td>\n",
              "    </tr>\n",
              "    <tr>\n",
              "      <th>378644</th>\n",
              "      <td>999934908</td>\n",
              "      <td>Product Design</td>\n",
              "      <td>Design</td>\n",
              "      <td>USD</td>\n",
              "      <td>2015-12-15</td>\n",
              "      <td>3500.0</td>\n",
              "      <td>2015-11-23 07:33:14</td>\n",
              "      <td>6169.00</td>\n",
              "      <td>successful</td>\n",
              "      <td>120</td>\n",
              "      <td>US</td>\n",
              "      <td>6169.00</td>\n",
              "      <td>6169.00</td>\n",
              "      <td>3500.00</td>\n",
              "    </tr>\n",
              "    <tr>\n",
              "      <th>378646</th>\n",
              "      <td>999943841</td>\n",
              "      <td>Children's Books</td>\n",
              "      <td>Publishing</td>\n",
              "      <td>USD</td>\n",
              "      <td>2013-11-30</td>\n",
              "      <td>950.0</td>\n",
              "      <td>2013-10-18 21:35:04</td>\n",
              "      <td>1732.02</td>\n",
              "      <td>successful</td>\n",
              "      <td>31</td>\n",
              "      <td>US</td>\n",
              "      <td>1732.02</td>\n",
              "      <td>1732.02</td>\n",
              "      <td>950.00</td>\n",
              "    </tr>\n",
              "    <tr>\n",
              "      <th>378651</th>\n",
              "      <td>999969812</td>\n",
              "      <td>Classical Music</td>\n",
              "      <td>Music</td>\n",
              "      <td>CAD</td>\n",
              "      <td>2014-03-22</td>\n",
              "      <td>5000.0</td>\n",
              "      <td>2014-02-20 01:00:16</td>\n",
              "      <td>5501.00</td>\n",
              "      <td>successful</td>\n",
              "      <td>78</td>\n",
              "      <td>CA</td>\n",
              "      <td>5019.92</td>\n",
              "      <td>4983.69</td>\n",
              "      <td>4529.81</td>\n",
              "    </tr>\n",
              "    <tr>\n",
              "      <th>378652</th>\n",
              "      <td>999971898</td>\n",
              "      <td>Documentary</td>\n",
              "      <td>Film &amp; Video</td>\n",
              "      <td>NOK</td>\n",
              "      <td>2015-04-28</td>\n",
              "      <td>20000.0</td>\n",
              "      <td>2015-03-29 21:30:33</td>\n",
              "      <td>21500.00</td>\n",
              "      <td>successful</td>\n",
              "      <td>36</td>\n",
              "      <td>NO</td>\n",
              "      <td>2698.97</td>\n",
              "      <td>2875.83</td>\n",
              "      <td>2675.19</td>\n",
              "    </tr>\n",
              "  </tbody>\n",
              "</table>\n",
              "<p>133956 rows × 14 columns</p>\n",
              "</div>"
            ],
            "text/plain": [
              "                ID          category  ... usd_pledged_real usd_goal_real\n",
              "5       1000014025       Restaurants  ...         52375.00      50000.00\n",
              "6       1000023410              Food  ...          1205.00       1000.00\n",
              "11       100005484        Indie Rock  ...         12700.00      12500.00\n",
              "14      1000057089    Tabletop Games  ...        121857.33       6469.73\n",
              "18      1000070642             Music  ...           250.00        250.00\n",
              "...            ...               ...  ...              ...           ...\n",
              "378642   999929142    Tabletop Games  ...          1452.47       1165.70\n",
              "378644   999934908    Product Design  ...          6169.00       3500.00\n",
              "378646   999943841  Children's Books  ...          1732.02        950.00\n",
              "378651   999969812   Classical Music  ...          4983.69       4529.81\n",
              "378652   999971898       Documentary  ...          2875.83       2675.19\n",
              "\n",
              "[133956 rows x 14 columns]"
            ]
          },
          "metadata": {
            "tags": []
          },
          "execution_count": 13
        }
      ]
    },
    {
      "cell_type": "code",
      "metadata": {
        "colab": {
          "base_uri": "https://localhost:8080/"
        },
        "id": "8qf4TvNshh09",
        "outputId": "955fa143-c3f2-4d88-dac0-6446ef9f5d03"
      },
      "source": [
        "Total_Success = sucess_KS.shape[0]\n",
        "Total_Success"
      ],
      "execution_count": null,
      "outputs": [
        {
          "output_type": "execute_result",
          "data": {
            "text/plain": [
              "133956"
            ]
          },
          "metadata": {
            "tags": []
          },
          "execution_count": 14
        }
      ]
    },
    {
      "cell_type": "code",
      "metadata": {
        "id": "9aquD_NA-KKj",
        "colab": {
          "base_uri": "https://localhost:8080/"
        },
        "outputId": "9037a223-fee3-4fc1-a8a7-70c9301002d7"
      },
      "source": [
        "Total_KS = new_df.shape[0]\n",
        "Total_KS"
      ],
      "execution_count": null,
      "outputs": [
        {
          "output_type": "execute_result",
          "data": {
            "text/plain": [
              "378661"
            ]
          },
          "metadata": {
            "tags": []
          },
          "execution_count": 15
        }
      ]
    },
    {
      "cell_type": "code",
      "metadata": {
        "colab": {
          "base_uri": "https://localhost:8080/"
        },
        "id": "lGSCp47Jh2qZ",
        "outputId": "f91b9414-f3ad-4c9b-baba-22043063623d"
      },
      "source": [
        "Complete_Per = (Total_Success / Total_KS)*100\n",
        "Complete_Per"
      ],
      "execution_count": null,
      "outputs": [
        {
          "output_type": "execute_result",
          "data": {
            "text/plain": [
              "35.37623362321443"
            ]
          },
          "metadata": {
            "tags": []
          },
          "execution_count": 16
        }
      ]
    },
    {
      "cell_type": "markdown",
      "metadata": {
        "id": "r3umGpnMiKrh"
      },
      "source": [
        "We can conclude that only 35% of Kick Starter Projects are successful in 2018."
      ]
    },
    {
      "cell_type": "code",
      "metadata": {
        "colab": {
          "base_uri": "https://localhost:8080/",
          "height": 282
        },
        "id": "vuruwt8-tSpl",
        "outputId": "5ab66be2-d13b-4c0a-b0c0-1e11b3387ddf"
      },
      "source": [
        "Percent = [35, 65]\n",
        "Status = ['Successful', 'Unsuccessful']\n",
        "comp = pd.DataFrame({\"Percent\" : Percent, \"Status\" : Status})\n",
        "ax = comp.plot(y=\"Percent\", kind=\"pie\", labels = comp[\"Status\"], autopct = '%1.0f%%', legend=False, title='Achievement of All Projects')\n",
        "\n",
        "# Hide y-axis label\n",
        "ax.set(ylabel='')"
      ],
      "execution_count": 15,
      "outputs": [
        {
          "output_type": "execute_result",
          "data": {
            "text/plain": [
              "[Text(0, 0.5, '')]"
            ]
          },
          "metadata": {
            "tags": []
          },
          "execution_count": 15
        },
        {
          "output_type": "display_data",
          "data": {
            "image/png": "[encoded data removed]",
            "text/plain": [
              "<Figure size 432x288 with 1 Axes>"
            ]
          },
          "metadata": {
            "tags": []
          }
        }
      ]
    },
    {
      "cell_type": "markdown",
      "metadata": {
        "id": "sA8N2TakW3Ad"
      },
      "source": [
        "Another Question to ask is what is the total pledge by country?"
      ]
    },
    {
      "cell_type": "code",
      "metadata": {
        "id": "Ank2T3kroi8B"
      },
      "source": [
        "def percent_plot(data, title):\n",
        "    '''\n",
        "    INPUT: data- data of which to graph distribution\n",
        "            title- graph title\n",
        "    OUTPUT: Distribution of Data by Percentage Points\n",
        "    '''\n",
        "    ax = data.plot(kind='bar')\n",
        "    plt.title(title)\n",
        "    ax.yaxis.set_major_formatter(PercentFormatter())\n",
        "    plt.show();"
      ],
      "execution_count": 17,
      "outputs": []
    },
    {
      "cell_type": "code",
      "metadata": {
        "colab": {
          "base_uri": "https://localhost:8080/",
          "height": 293
        },
        "id": "phcR3dzeoiud",
        "outputId": "90bdc498-b8f3-4212-a1ba-ecfcf36568b1"
      },
      "source": [
        "percent_plot((new_df.country.value_counts()/new_df.shape[0]*100), \"Kickstarter Projects by Country\")\n"
      ],
      "execution_count": null,
      "outputs": [
        {
          "output_type": "display_data",
          "data": {
            "image/png": "[encoded data removed]",
            "text/plain": [
              "<Figure size 432x288 with 1 Axes>"
            ]
          },
          "metadata": {
            "tags": [],
            "needs_background": "light"
          }
        }
      ]
    },
    {
      "cell_type": "markdown",
      "metadata": {
        "id": "8KcxeuYVyAcm"
      },
      "source": [
        "Now lets see the number of projects by category"
      ]
    },
    {
      "cell_type": "code",
      "metadata": {
        "colab": {
          "base_uri": "https://localhost:8080/",
          "height": 334
        },
        "id": "2slWMUgZxy59",
        "outputId": "119acaa9-7571-4c18-b730-bb9d4e1cd5e3"
      },
      "source": [
        "percent_plot((new_df.main_category.value_counts()/df.shape[0]*100), \n",
        "             \"Kickstarter Projects by Category\")"
      ],
      "execution_count": 18,
      "outputs": [
        {
          "output_type": "display_data",
          "data": {
            "image/png": "[encoded data removed]",
            "text/plain": [
              "<Figure size 432x288 with 1 Axes>"
            ]
          },
          "metadata": {
            "tags": [],
            "needs_background": "light"
          }
        }
      ]
    },
    {
      "cell_type": "code",
      "metadata": {
        "id": "JlCC0x-qTCSr"
      },
      "source": [
        "\n",
        "from sklearn.linear_model import LinearRegression\n",
        "from sklearn.model_selection import train_test_split\n",
        "from sklearn.metrics import r2_score, mean_squared_error\n"
      ],
      "execution_count": null,
      "outputs": []
    },
    {
      "cell_type": "markdown",
      "metadata": {
        "id": "aZmRkg97SOZQ"
      },
      "source": [
        " Now I need to consider the categorical variables into the model"
      ]
    },
    {
      "cell_type": "code",
      "metadata": {
        "colab": {
          "base_uri": "https://localhost:8080/",
          "height": 411
        },
        "id": "jHiBYPrVhRan",
        "outputId": "d324af90-ac4d-4123-ec19-8dbf4e96e29c"
      },
      "source": [
        "sucess_KS.head(5)"
      ],
      "execution_count": null,
      "outputs": [
        {
          "output_type": "execute_result",
          "data": {
            "text/html": [
              "<div>\n",
              "<style scoped>\n",
              "    .dataframe tbody tr th:only-of-type {\n",
              "        vertical-align: middle;\n",
              "    }\n",
              "\n",
              "    .dataframe tbody tr th {\n",
              "        vertical-align: top;\n",
              "    }\n",
              "\n",
              "    .dataframe thead th {\n",
              "        text-align: right;\n",
              "    }\n",
              "</style>\n",
              "<table border=\"1\" class=\"dataframe\">\n",
              "  <thead>\n",
              "    <tr style=\"text-align: right;\">\n",
              "      <th></th>\n",
              "      <th>ID</th>\n",
              "      <th>category</th>\n",
              "      <th>main_category</th>\n",
              "      <th>currency</th>\n",
              "      <th>deadline</th>\n",
              "      <th>goal</th>\n",
              "      <th>launched</th>\n",
              "      <th>pledged</th>\n",
              "      <th>state</th>\n",
              "      <th>backers</th>\n",
              "      <th>country</th>\n",
              "      <th>usd pledged</th>\n",
              "      <th>usd_pledged_real</th>\n",
              "      <th>usd_goal_real</th>\n",
              "      <th>Month</th>\n",
              "    </tr>\n",
              "  </thead>\n",
              "  <tbody>\n",
              "    <tr>\n",
              "      <th>5</th>\n",
              "      <td>1000014025</td>\n",
              "      <td>Restaurants</td>\n",
              "      <td>Food</td>\n",
              "      <td>USD</td>\n",
              "      <td>2016-04-01</td>\n",
              "      <td>50000.0</td>\n",
              "      <td>2016-02-26 13:38:27</td>\n",
              "      <td>52375.0</td>\n",
              "      <td>successful</td>\n",
              "      <td>224</td>\n",
              "      <td>US</td>\n",
              "      <td>52375.00</td>\n",
              "      <td>52375.00</td>\n",
              "      <td>50000.00</td>\n",
              "      <td>2</td>\n",
              "    </tr>\n",
              "    <tr>\n",
              "      <th>6</th>\n",
              "      <td>1000023410</td>\n",
              "      <td>Food</td>\n",
              "      <td>Food</td>\n",
              "      <td>USD</td>\n",
              "      <td>2014-12-21</td>\n",
              "      <td>1000.0</td>\n",
              "      <td>2014-12-01 18:30:44</td>\n",
              "      <td>1205.0</td>\n",
              "      <td>successful</td>\n",
              "      <td>16</td>\n",
              "      <td>US</td>\n",
              "      <td>1205.00</td>\n",
              "      <td>1205.00</td>\n",
              "      <td>1000.00</td>\n",
              "      <td>12</td>\n",
              "    </tr>\n",
              "    <tr>\n",
              "      <th>11</th>\n",
              "      <td>100005484</td>\n",
              "      <td>Indie Rock</td>\n",
              "      <td>Music</td>\n",
              "      <td>USD</td>\n",
              "      <td>2013-04-08</td>\n",
              "      <td>12500.0</td>\n",
              "      <td>2013-03-09 06:42:58</td>\n",
              "      <td>12700.0</td>\n",
              "      <td>successful</td>\n",
              "      <td>100</td>\n",
              "      <td>US</td>\n",
              "      <td>12700.00</td>\n",
              "      <td>12700.00</td>\n",
              "      <td>12500.00</td>\n",
              "      <td>3</td>\n",
              "    </tr>\n",
              "    <tr>\n",
              "      <th>14</th>\n",
              "      <td>1000057089</td>\n",
              "      <td>Tabletop Games</td>\n",
              "      <td>Games</td>\n",
              "      <td>GBP</td>\n",
              "      <td>2017-05-03</td>\n",
              "      <td>5000.0</td>\n",
              "      <td>2017-04-05 19:44:18</td>\n",
              "      <td>94175.0</td>\n",
              "      <td>successful</td>\n",
              "      <td>761</td>\n",
              "      <td>GB</td>\n",
              "      <td>57763.78</td>\n",
              "      <td>121857.33</td>\n",
              "      <td>6469.73</td>\n",
              "      <td>4</td>\n",
              "    </tr>\n",
              "    <tr>\n",
              "      <th>18</th>\n",
              "      <td>1000070642</td>\n",
              "      <td>Music</td>\n",
              "      <td>Music</td>\n",
              "      <td>USD</td>\n",
              "      <td>2012-08-17</td>\n",
              "      <td>250.0</td>\n",
              "      <td>2012-08-02 14:11:32</td>\n",
              "      <td>250.0</td>\n",
              "      <td>successful</td>\n",
              "      <td>7</td>\n",
              "      <td>US</td>\n",
              "      <td>250.00</td>\n",
              "      <td>250.00</td>\n",
              "      <td>250.00</td>\n",
              "      <td>8</td>\n",
              "    </tr>\n",
              "  </tbody>\n",
              "</table>\n",
              "</div>"
            ],
            "text/plain": [
              "            ID        category  ... usd_goal_real Month\n",
              "5   1000014025     Restaurants  ...      50000.00     2\n",
              "6   1000023410            Food  ...       1000.00    12\n",
              "11   100005484      Indie Rock  ...      12500.00     3\n",
              "14  1000057089  Tabletop Games  ...       6469.73     4\n",
              "18  1000070642           Music  ...        250.00     8\n",
              "\n",
              "[5 rows x 15 columns]"
            ]
          },
          "metadata": {
            "tags": []
          },
          "execution_count": 23
        }
      ]
    },
    {
      "cell_type": "code",
      "metadata": {
        "id": "UQhyG0_1VSJB",
        "colab": {
          "base_uri": "https://localhost:8080/",
          "height": 35
        },
        "outputId": "0aaddc03-74ef-4111-832d-f25c90189c26"
      },
      "source": [
        "\n",
        "#Split into explanatory and response variables\n",
        "X = sucess_KS[[ 'goal','pledged', 'backers']]\n",
        "y = sucess_KS['usd pledged']\n",
        "\n",
        "#Split into train and test\n",
        "X_train, X_test, y_train, y_test = train_test_split(X, y, test_size = .30, random_state=42) \n",
        "\n",
        "lm_model = LinearRegression(normalize=True) # Instantiate\n",
        "lm_model.fit(X_train, y_train) #Fit\n",
        "        \n",
        "#Predict and score the model\n",
        "y_test_preds = lm_model.predict(X_test) \n",
        "\"The r-squared score for the model using only quantitative variables was {} on {} values.\".format(r2_score(y_test, y_test_preds), len(y_test))"
      ],
      "execution_count": null,
      "outputs": [
        {
          "output_type": "execute_result",
          "data": {
            "application/vnd.google.colaboratory.intrinsic+json": {
              "type": "string"
            },
            "text/plain": [
              "'The r-squared score for the model using only quantitative variables was 0.5287001669743496 on 40187 values.'"
            ]
          },
          "metadata": {
            "tags": []
          },
          "execution_count": 24
        }
      ]
    }
  ]
}